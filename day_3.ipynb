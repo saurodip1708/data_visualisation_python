{
 "cells": [
  {
   "metadata": {},
   "cell_type": "code",
   "outputs": [],
   "execution_count": null,
   "source": "import pandas as pd",
   "id": "8221996f3fb68a1d"
  },
  {
   "cell_type": "code",
   "id": "initial_id",
   "metadata": {
    "collapsed": true,
    "ExecuteTime": {
     "end_time": "2024-07-24T05:51:29.951885Z",
     "start_time": "2024-07-24T05:51:29.945879Z"
    }
   },
   "source": [
    "\n",
    "dict={\n",
    "    \"car\":[\"maruti\",\"tata\",\"bmw\",'volvo'],\n",
    "    \"mileage\":[18,28,30,40],\n",
    "}\n",
    "df=pd.DataFrame(dict)\n",
    "print(df)\n",
    "print(df.to_string)"
   ],
   "outputs": [
    {
     "name": "stdout",
     "output_type": "stream",
     "text": [
      "      car  mileage\n",
      "0  maruti       18\n",
      "1    tata       28\n",
      "2     bmw       30\n",
      "3   volvo       40\n",
      "<bound method DataFrame.to_string of       car  mileage\n",
      "0  maruti       18\n",
      "1    tata       28\n",
      "2     bmw       30\n",
      "3   volvo       40>\n"
     ]
    }
   ],
   "execution_count": 7
  },
  {
   "metadata": {
    "ExecuteTime": {
     "end_time": "2024-07-24T06:03:55.250958Z",
     "start_time": "2024-07-24T06:03:55.243431Z"
    }
   },
   "cell_type": "code",
   "source": [
    "\n",
    "data={\n",
    "    \"pressure\":{\n",
    "        \"a\":100,\n",
    "        \"b\":150,\n",
    "        \"c\":180,\n",
    "        \"d\":120,\n",
    "    },\n",
    "    \"sugar\":\n",
    "        {\n",
    "        \"a\":120,\n",
    "        \"b\":140,\n",
    "        \"c\":380,\n",
    "        \"d\":220,  \n",
    "        }\n",
    "}\n",
    "df=pd.DataFrame(data)\n",
    "print(df)\n",
    "print(data)"
   ],
   "id": "6f5c4069d066d5f5",
   "outputs": [
    {
     "name": "stdout",
     "output_type": "stream",
     "text": [
      "   pressure  sugar\n",
      "a       100    120\n",
      "b       150    140\n",
      "c       180    380\n",
      "d       120    220\n",
      "{'pressure': {'a': 100, 'b': 150, 'c': 180, 'd': 120}, 'sugar': {'a': 120, 'b': 140, 'c': 380, 'd': 220}}\n"
     ]
    }
   ],
   "execution_count": 9
  },
  {
   "metadata": {
    "ExecuteTime": {
     "end_time": "2024-07-24T06:26:48.443452Z",
     "start_time": "2024-07-24T06:26:48.414372Z"
    }
   },
   "cell_type": "code",
   "source": [
    "data=pd.read_csv(\"temp1.csv\")\n",
    "print(data)\n",
    "print(data.head(2))\n",
    "print(data.tail(2))\n",
    "print(data.info())\n",
    "x=data[\"Total\"].mean()\n",
    "print(x)"
   ],
   "id": "f13f3f131f5e5386",
   "outputs": [
    {
     "name": "stdout",
     "output_type": "stream",
     "text": [
      "  Name   roll   Eng   Math   Beng  Total        Avg\n",
      "0     A     11    66     67    78    211  70.333333\n",
      "1     B     12    45     45    67    157  52.333333\n",
      "2     C     13    56     56    78    190  63.333333\n",
      "3     D     14    67     67    89    223  74.333333\n",
      "4     E     15    55     88    56    199  66.333333\n",
      "  Name   roll   Eng   Math   Beng  Total        Avg\n",
      "0     A     11    66     67    78    211  70.333333\n",
      "1     B     12    45     45    67    157  52.333333\n",
      "  Name   roll   Eng   Math   Beng  Total        Avg\n",
      "3     D     14    67     67    89    223  74.333333\n",
      "4     E     15    55     88    56    199  66.333333\n",
      "<class 'pandas.core.frame.DataFrame'>\n",
      "RangeIndex: 5 entries, 0 to 4\n",
      "Data columns (total 7 columns):\n",
      " #   Column  Non-Null Count  Dtype  \n",
      "---  ------  --------------  -----  \n",
      " 0   Name    5 non-null      object \n",
      " 1   roll    5 non-null      int64  \n",
      " 2   Eng     5 non-null      int64  \n",
      " 3   Math    5 non-null      int64  \n",
      " 4   Beng    5 non-null      int64  \n",
      " 5   Total   5 non-null      int64  \n",
      " 6   Avg     5 non-null      float64\n",
      "dtypes: float64(1), int64(5), object(1)\n",
      "memory usage: 412.0+ bytes\n",
      "None\n",
      "196.0\n"
     ]
    }
   ],
   "execution_count": 19
  },
  {
   "metadata": {
    "ExecuteTime": {
     "end_time": "2024-07-24T07:20:32.420388Z",
     "start_time": "2024-07-24T07:20:32.408085Z"
    }
   },
   "cell_type": "code",
   "source": [
    "data=pd.read_csv(\"VAC.csv\")\n",
    "data"
   ],
   "id": "73eca17ea0e87590",
   "outputs": [
    {
     "data": {
      "text/plain": [
       "    roll no.      name   marks result\n",
       "0          1    Shibham     50   Pass\n",
       "1          2      Sujit     30   Fail\n",
       "2          3  Souradeep     45   Pass\n",
       "3          4     Ankita     98   Pass\n",
       "4          5      Sneha     35   Fail\n",
       "5          6       Dola     76   Pass\n",
       "6          7      Sayan     23   Fail\n",
       "7          8    Niladri     56   Pass\n",
       "8          9      Ritik     78   Pass\n",
       "9         10    Ibrahim     12   Fail\n",
       "10        11     Apurbo     45   Pass"
      ],
      "text/html": [
       "<div>\n",
       "<style scoped>\n",
       "    .dataframe tbody tr th:only-of-type {\n",
       "        vertical-align: middle;\n",
       "    }\n",
       "\n",
       "    .dataframe tbody tr th {\n",
       "        vertical-align: top;\n",
       "    }\n",
       "\n",
       "    .dataframe thead th {\n",
       "        text-align: right;\n",
       "    }\n",
       "</style>\n",
       "<table border=\"1\" class=\"dataframe\">\n",
       "  <thead>\n",
       "    <tr style=\"text-align: right;\">\n",
       "      <th></th>\n",
       "      <th>roll no.</th>\n",
       "      <th>name</th>\n",
       "      <th>marks</th>\n",
       "      <th>result</th>\n",
       "    </tr>\n",
       "  </thead>\n",
       "  <tbody>\n",
       "    <tr>\n",
       "      <th>0</th>\n",
       "      <td>1</td>\n",
       "      <td>Shibham</td>\n",
       "      <td>50</td>\n",
       "      <td>Pass</td>\n",
       "    </tr>\n",
       "    <tr>\n",
       "      <th>1</th>\n",
       "      <td>2</td>\n",
       "      <td>Sujit</td>\n",
       "      <td>30</td>\n",
       "      <td>Fail</td>\n",
       "    </tr>\n",
       "    <tr>\n",
       "      <th>2</th>\n",
       "      <td>3</td>\n",
       "      <td>Souradeep</td>\n",
       "      <td>45</td>\n",
       "      <td>Pass</td>\n",
       "    </tr>\n",
       "    <tr>\n",
       "      <th>3</th>\n",
       "      <td>4</td>\n",
       "      <td>Ankita</td>\n",
       "      <td>98</td>\n",
       "      <td>Pass</td>\n",
       "    </tr>\n",
       "    <tr>\n",
       "      <th>4</th>\n",
       "      <td>5</td>\n",
       "      <td>Sneha</td>\n",
       "      <td>35</td>\n",
       "      <td>Fail</td>\n",
       "    </tr>\n",
       "    <tr>\n",
       "      <th>5</th>\n",
       "      <td>6</td>\n",
       "      <td>Dola</td>\n",
       "      <td>76</td>\n",
       "      <td>Pass</td>\n",
       "    </tr>\n",
       "    <tr>\n",
       "      <th>6</th>\n",
       "      <td>7</td>\n",
       "      <td>Sayan</td>\n",
       "      <td>23</td>\n",
       "      <td>Fail</td>\n",
       "    </tr>\n",
       "    <tr>\n",
       "      <th>7</th>\n",
       "      <td>8</td>\n",
       "      <td>Niladri</td>\n",
       "      <td>56</td>\n",
       "      <td>Pass</td>\n",
       "    </tr>\n",
       "    <tr>\n",
       "      <th>8</th>\n",
       "      <td>9</td>\n",
       "      <td>Ritik</td>\n",
       "      <td>78</td>\n",
       "      <td>Pass</td>\n",
       "    </tr>\n",
       "    <tr>\n",
       "      <th>9</th>\n",
       "      <td>10</td>\n",
       "      <td>Ibrahim</td>\n",
       "      <td>12</td>\n",
       "      <td>Fail</td>\n",
       "    </tr>\n",
       "    <tr>\n",
       "      <th>10</th>\n",
       "      <td>11</td>\n",
       "      <td>Apurbo</td>\n",
       "      <td>45</td>\n",
       "      <td>Pass</td>\n",
       "    </tr>\n",
       "  </tbody>\n",
       "</table>\n",
       "</div>"
      ]
     },
     "execution_count": 27,
     "metadata": {},
     "output_type": "execute_result"
    }
   ],
   "execution_count": 27
  },
  {
   "metadata": {
    "ExecuteTime": {
     "end_time": "2024-07-24T07:23:46.967051Z",
     "start_time": "2024-07-24T07:23:46.958374Z"
    }
   },
   "cell_type": "code",
   "source": [
    "max = data[data['marks'] == data['marks'].max()]\n",
    "print(max)"
   ],
   "id": "5ef66ae1061b4bf8",
   "outputs": [
    {
     "name": "stdout",
     "output_type": "stream",
     "text": [
      "   roll no.   name   marks result\n",
      "3         4  Ankita     98   Pass\n"
     ]
    }
   ],
   "execution_count": 29
  },
  {
   "metadata": {
    "ExecuteTime": {
     "end_time": "2024-07-24T07:29:14.266680Z",
     "start_time": "2024-07-24T07:29:14.260410Z"
    }
   },
   "cell_type": "code",
   "source": "data[data.marks>45]\n",
   "id": "5f194dda4d79ab47",
   "outputs": [
    {
     "data": {
      "text/plain": [
       "   roll no.    name   marks result\n",
       "0         1  Shibham     50   Pass\n",
       "3         4   Ankita     98   Pass\n",
       "5         6     Dola     76   Pass\n",
       "7         8  Niladri     56   Pass\n",
       "8         9    Ritik     78   Pass"
      ],
      "text/html": [
       "<div>\n",
       "<style scoped>\n",
       "    .dataframe tbody tr th:only-of-type {\n",
       "        vertical-align: middle;\n",
       "    }\n",
       "\n",
       "    .dataframe tbody tr th {\n",
       "        vertical-align: top;\n",
       "    }\n",
       "\n",
       "    .dataframe thead th {\n",
       "        text-align: right;\n",
       "    }\n",
       "</style>\n",
       "<table border=\"1\" class=\"dataframe\">\n",
       "  <thead>\n",
       "    <tr style=\"text-align: right;\">\n",
       "      <th></th>\n",
       "      <th>roll no.</th>\n",
       "      <th>name</th>\n",
       "      <th>marks</th>\n",
       "      <th>result</th>\n",
       "    </tr>\n",
       "  </thead>\n",
       "  <tbody>\n",
       "    <tr>\n",
       "      <th>0</th>\n",
       "      <td>1</td>\n",
       "      <td>Shibham</td>\n",
       "      <td>50</td>\n",
       "      <td>Pass</td>\n",
       "    </tr>\n",
       "    <tr>\n",
       "      <th>3</th>\n",
       "      <td>4</td>\n",
       "      <td>Ankita</td>\n",
       "      <td>98</td>\n",
       "      <td>Pass</td>\n",
       "    </tr>\n",
       "    <tr>\n",
       "      <th>5</th>\n",
       "      <td>6</td>\n",
       "      <td>Dola</td>\n",
       "      <td>76</td>\n",
       "      <td>Pass</td>\n",
       "    </tr>\n",
       "    <tr>\n",
       "      <th>7</th>\n",
       "      <td>8</td>\n",
       "      <td>Niladri</td>\n",
       "      <td>56</td>\n",
       "      <td>Pass</td>\n",
       "    </tr>\n",
       "    <tr>\n",
       "      <th>8</th>\n",
       "      <td>9</td>\n",
       "      <td>Ritik</td>\n",
       "      <td>78</td>\n",
       "      <td>Pass</td>\n",
       "    </tr>\n",
       "  </tbody>\n",
       "</table>\n",
       "</div>"
      ]
     },
     "execution_count": 36,
     "metadata": {},
     "output_type": "execute_result"
    }
   ],
   "execution_count": 36
  }
 ],
 "metadata": {
  "kernelspec": {
   "display_name": "Python 3",
   "language": "python",
   "name": "python3"
  },
  "language_info": {
   "codemirror_mode": {
    "name": "ipython",
    "version": 2
   },
   "file_extension": ".py",
   "mimetype": "text/x-python",
   "name": "python",
   "nbconvert_exporter": "python",
   "pygments_lexer": "ipython2",
   "version": "2.7.6"
  }
 },
 "nbformat": 4,
 "nbformat_minor": 5
}
