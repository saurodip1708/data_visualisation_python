{
 "cells": [
  {
   "cell_type": "code",
   "id": "initial_id",
   "metadata": {
    "collapsed": true,
    "ExecuteTime": {
     "end_time": "2024-07-23T05:39:16.140076Z",
     "start_time": "2024-07-23T05:39:16.136182Z"
    }
   },
   "source": [
    "a=\"now the time is \"\n",
    "b=1\n",
    "print(a+str(b))"
   ],
   "outputs": [
    {
     "name": "stdout",
     "output_type": "stream",
     "text": [
      "now the time is 1\n"
     ]
    }
   ],
   "execution_count": 2
  },
  {
   "metadata": {
    "ExecuteTime": {
     "end_time": "2024-07-23T06:11:58.172011Z",
     "start_time": "2024-07-23T06:11:53.091607Z"
    }
   },
   "cell_type": "code",
   "source": [
    "a=input(\"Enter your name: \")\n",
    "b=input(\"Enter your age: \")\n",
    "c=f\"I am,{b} years old is\"\n",
    "d=\"my name is\",a,c\n",
    "print(d.count(\"is\"))\n",
    "print(a.upper(),b.upper())\n",
    "print(a.lower(),b.lower()) "
   ],
   "id": "d84a9572f060b5cf",
   "outputs": [
    {
     "name": "stdout",
     "output_type": "stream",
     "text": [
      "1\n",
      "IS 33\n",
      "is 33\n"
     ]
    }
   ],
   "execution_count": 13
  },
  {
   "metadata": {
    "ExecuteTime": {
     "end_time": "2024-07-23T05:57:14.116377Z",
     "start_time": "2024-07-23T05:57:14.112757Z"
    }
   },
   "cell_type": "code",
   "source": [
    "a= \"Saurodip Sinha\"\n",
    "print(a.split())"
   ],
   "id": "7fe173097f457f29",
   "outputs": [
    {
     "name": "stdout",
     "output_type": "stream",
     "text": [
      "['Saurodip', 'Sinha']\n"
     ]
    }
   ],
   "execution_count": 10
  },
  {
   "metadata": {
    "ExecuteTime": {
     "end_time": "2024-07-23T06:47:22.921616Z",
     "start_time": "2024-07-23T06:47:22.760040Z"
    }
   },
   "cell_type": "code",
   "source": [
    "import numpy as np\n",
    "a=np.array([1,2,3,4,5,6,7,8,9])\n",
    "print(a)"
   ],
   "id": "cbb2491646464507",
   "outputs": [
    {
     "name": "stdout",
     "output_type": "stream",
     "text": [
      "[1 2 3 4 5 6 7 8 9]\n"
     ]
    }
   ],
   "execution_count": 14
  },
  {
   "metadata": {
    "ExecuteTime": {
     "end_time": "2024-07-23T07:07:53.352694Z",
     "start_time": "2024-07-23T07:07:53.348310Z"
    }
   },
   "cell_type": "code",
   "source": [
    "mat2=np.array([[1,2,3],[4,5,6],[7,8,9]])\n",
    "print(mat2)\n",
    "print(mat2.shape)"
   ],
   "id": "e08e0f5498207e6f",
   "outputs": [
    {
     "name": "stdout",
     "output_type": "stream",
     "text": [
      "[[1 2 3]\n",
      " [4 5 6]\n",
      " [7 8 9]]\n",
      "(3, 3)\n"
     ]
    }
   ],
   "execution_count": 15
  },
  {
   "metadata": {
    "ExecuteTime": {
     "end_time": "2024-07-23T07:15:59.831621Z",
     "start_time": "2024-07-23T07:15:59.828818Z"
    }
   },
   "cell_type": "code",
   "source": [
    "import numpy as np\n",
    "a=np.array([1,2,3,4,5,6,7,8])\n",
    "print(a.reshape(2,4))"
   ],
   "id": "26e351a5ad13b159",
   "outputs": [
    {
     "name": "stdout",
     "output_type": "stream",
     "text": [
      "[[1 2 3 4]\n",
      " [5 6 7 8]]\n"
     ]
    }
   ],
   "execution_count": 17
  },
  {
   "metadata": {},
   "cell_type": "code",
   "outputs": [],
   "execution_count": null,
   "source": "import pandas as pd\n",
   "id": "cfe20d5ce9bcc362"
  }
 ],
 "metadata": {
  "kernelspec": {
   "display_name": "Python 3",
   "language": "python",
   "name": "python3"
  },
  "language_info": {
   "codemirror_mode": {
    "name": "ipython",
    "version": 2
   },
   "file_extension": ".py",
   "mimetype": "text/x-python",
   "name": "python",
   "nbconvert_exporter": "python",
   "pygments_lexer": "ipython2",
   "version": "2.7.6"
  }
 },
 "nbformat": 4,
 "nbformat_minor": 5
}
