{
 "cells": [
  {
   "metadata": {},
   "cell_type": "markdown",
   "source": [
    "# This is a sample Jupyter Notebook\n",
    "\n",
    "Below is an example of a code cell. \n",
    "Put your cursor into the cell and press Shift+Enter to execute it and select the next one, or click !here goes the icon of the corresponding button in the gutter! button.\n",
    "To debug a cell, press Alt+Shift+Enter, or click !here goes the icon of the corresponding button in the gutter! button.\n",
    "\n",
    "Press Double Shift to search everywhere for classes, files, tool windows, actions, and settings.\n",
    "\n",
    "To learn more about Jupyter Notebooks in PyCharm, see [help](https://www.jetbrains.com/help/pycharm/jupyter-notebook-support.html).\n",
    "For an overview of PyCharm, go to Help -> Learn IDE features or refer to [our documentation](https://www.jetbrains.com/help/pycharm/getting-started.html)."
   ],
   "id": "8a77807f92f26ee"
  },
  {
   "metadata": {
    "ExecuteTime": {
     "end_time": "2024-07-22T11:09:17.433811Z",
     "start_time": "2024-07-22T11:09:17.428691Z"
    }
   },
   "cell_type": "code",
   "source": [
    "a=[\"tata\" ,\"ford\",\"maruti\"]\n",
    "b=[\"mercedes\" ,\"audi\",\"ferrari\"]\n",
    "print(a+b)\n",
    "a[0]=\"kwid\"\n",
    "print(a)\n"
   ],
   "id": "fbc121e30a2defb3",
   "outputs": [
    {
     "name": "stdout",
     "output_type": "stream",
     "text": [
      "['tata', 'ford', 'maruti', 'mercedes', 'audi', 'ferrari']\n",
      "['kwid', 'ford', 'maruti']\n"
     ]
    }
   ],
   "execution_count": 1
  },
  {
   "metadata": {
    "ExecuteTime": {
     "end_time": "2024-07-22T11:09:17.439277Z",
     "start_time": "2024-07-22T11:09:17.435858Z"
    }
   },
   "cell_type": "code",
   "source": [
    "tup=('tata','ford','maruti')\n",
    "print(tup)\n",
    "print(tup.count('tata'),tup.index('tata'))\n"
   ],
   "id": "96bb95516f8280e0",
   "outputs": [
    {
     "name": "stdout",
     "output_type": "stream",
     "text": [
      "('tata', 'ford', 'maruti')\n",
      "1 0\n"
     ]
    }
   ],
   "execution_count": 2
  },
  {
   "metadata": {
    "ExecuteTime": {
     "end_time": "2024-07-22T11:09:17.445211Z",
     "start_time": "2024-07-22T11:09:17.441205Z"
    }
   },
   "cell_type": "code",
   "source": [
    "dict={\n",
    "    'name':'saurodip',\n",
    "    'section':\"b\",\n",
    "    'age':19,\n",
    "    'age':20,\n",
    "    'name':'raju',\n",
    "    'section':'d',\n",
    "}\n",
    "print(dict)\n"
   ],
   "id": "4cd573f0c84736a6",
   "outputs": [
    {
     "name": "stdout",
     "output_type": "stream",
     "text": [
      "{'name': 'raju', 'section': 'd', 'age': 20}\n"
     ]
    }
   ],
   "execution_count": 3
  },
  {
   "metadata": {},
   "cell_type": "markdown",
   "source": "problem statement a grocery store sells a bag of ice for $1.25 and makes 20% profit if it sells 500 bags how much total profit",
   "id": "d66fb44f2534fef9"
  },
  {
   "metadata": {
    "ExecuteTime": {
     "end_time": "2024-07-22T11:09:24.269422Z",
     "start_time": "2024-07-22T11:09:17.446490Z"
    }
   },
   "cell_type": "code",
   "source": [
    "a=int(input(\"Enter how many packet sold:\"))\n",
    "profit=a*1.25\n",
    "print(profit*20/100)"
   ],
   "id": "a5eb1ec3a6f53b70",
   "outputs": [
    {
     "name": "stdout",
     "output_type": "stream",
     "text": [
      "11.0\n"
     ]
    }
   ],
   "execution_count": 4
  }
 ],
 "metadata": {
  "kernelspec": {
   "display_name": "Python 3",
   "language": "python",
   "name": "python3"
  },
  "language_info": {
   "codemirror_mode": {
    "name": "ipython",
    "version": 2
   },
   "file_extension": ".py",
   "mimetype": "text/x-python",
   "name": "python",
   "nbconvert_exporter": "python",
   "pygments_lexer": "ipython2",
   "version": "2.7.6"
  }
 },
 "nbformat": 4,
 "nbformat_minor": 5
}
